{
 "cells": [
  {
   "cell_type": "code",
   "execution_count": 1,
   "id": "employed-sudan",
   "metadata": {},
   "outputs": [],
   "source": [
    "import numpy as np\n",
    "import pandas as pd\n",
    "import matplotlib.pyplot as plt\n",
    "import seaborn as sns"
   ]
  },
  {
   "cell_type": "markdown",
   "id": "indirect-qatar",
   "metadata": {},
   "source": [
    "Ce qu'il a dit pendant le cours : \n",
    "\n",
    "* Sous forme de PDF\n",
    "* En français ou en anglais \n",
    "* Pas besoin que ce soit ultra verbeux\n",
    "* Qu'est ce qu'on cherche à résoudre?\n",
    "* Etat de l'art\n",
    "* Que font les gens sur ça aujourd'hui\n",
    "* Quels sont les grands type d'algo qu'on utilise\n",
    "* Type de données ? labellisation? qualité si elles sont déjà labellisées ?\n",
    "\n",
    "Pour le 30 avril : première partie, tout sauf l'algo et la conclusion"
   ]
  },
  {
   "cell_type": "markdown",
   "id": "level-pencil",
   "metadata": {},
   "source": [
    "## Management de Projet de Data Science\n",
    "\n",
    "On cherche à prédire le prix de certaines chaussures aux Etats-Unis en fonction de différents critères comme le type de la paire de chaussure à un moment donné, pour pouvoir déterminer à quel moment les revendre au meilleur prix ou à quel moment les acheter pour réduire le coût.\n",
    "\n",
    "Aujourd'hui, un business qui s'est développée est l'achat revente de chaussures sneakers de la marque Nike, ces chaussures sont devenues des objets de collection car elles sont limités en nombre. Beaucoup de gens achètent ses chaussures sur des sites spécialisés en faisant attention au variation des prix pour les acheter quand elles sont le moins chère.\n",
    "De nombreuses entreprises se sont spécialisé dans l'achat revente de chaussures sur ces sites a l'aide des variations de prix et de bots comme un algorithme de trading.\n",
    "\n",
    "Concernant les grands types d'algorithmes utilisés pour prédire des prix, nous avons à notre disposition les algorithmes de régression:\n",
    "    - Régression linéaire\n",
    "    - Régression LASSO\n",
    "    - etc.\n",
    "\n",
    "Etant donné que l'on a beaucoup d'exemple de revente de paires de chaussures, l'apprentissage sera supervisé. On pourra alors également utiliser des arbes de décisions.\n",
    "\n",
    "Par rapport au type de donnés, on a seulement un fichier de type CSV qui regroupe la vente de la collection de chaussures Off-White x Nike et le modèle Yeezy 350, entre 1/9/2017 (the month that Off-White first debuted “The Ten” collection) et 15/02/2019, mais sa taille est conséquente: elle regroupe la vente de 99,956 paires de chaussures: 27,794 ventes d'Off-White sales, et 72,162 ventes Yeezy. Le jeu de données ne consiste que ventes aux Etats-Unis.\n",
    "Le jeu de données est déjà labélisé: chaque revente de paire contient des indications comment le nom de la paire, le prix de la revente et la région de l'achat: le jeu de données semble être de bonne qualité. \n",
    "\n",
    "De plus, le jeu de données provient directement du site StockX, à cette adresse: https://stockx.com/news/the-2019-data-contest/\n",
    "StockX est un site de vente et d'achats de produits Streetwear qui regroupe des millions de client à travers le monde, donc le jeu de données qu'ils fournissent est fiable."
   ]
  },
  {
   "cell_type": "code",
   "execution_count": null,
   "id": "saved-movement",
   "metadata": {},
   "outputs": [],
   "source": []
  }
 ],
 "metadata": {
  "kernelspec": {
   "display_name": "Python 3",
   "language": "python",
   "name": "python3"
  },
  "language_info": {
   "codemirror_mode": {
    "name": "ipython",
    "version": 3
   },
   "file_extension": ".py",
   "mimetype": "text/x-python",
   "name": "python",
   "nbconvert_exporter": "python",
   "pygments_lexer": "ipython3",
   "version": "3.7.6"
  }
 },
 "nbformat": 4,
 "nbformat_minor": 5
}
